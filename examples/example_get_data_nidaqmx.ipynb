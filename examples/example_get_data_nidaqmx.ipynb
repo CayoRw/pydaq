{
 "cells": [
  {
   "cell_type": "markdown",
   "metadata": {},
   "source": [
    "---\n",
    "# Example #1\n",
    "---\n",
    "### How to use Get_data (and get_data_nidaqmx) to acquire signal using an National Instruments board\n",
    "---"
   ]
  },
  {
   "cell_type": "markdown",
   "metadata": {},
   "source": [
    "### Importing library and defining parameters"
   ]
  },
  {
   "cell_type": "code",
   "execution_count": 5,
   "metadata": {},
   "outputs": [],
   "source": [
    "# Importing PYDAQ\n",
    "from pydaq.get_data import Get_data\n",
    "\n",
    "# Defining parameters\n",
    "device_name = \"Dev1\"\n",
    "channel_used = \"ai0\"\n",
    "sample_period_in_seconds = 1\n",
    "session_duration_in_seconds = 10.0\n",
    "save_data = True\n",
    "path_to_save  = None # It will be saved on Desktop. You can specify a different path if needed\n",
    "will_plot = True"
   ]
  },
  {
   "cell_type": "markdown",
   "metadata": {},
   "source": [
    "### Getting data from the board - and saving them in Desktop"
   ]
  },
  {
   "cell_type": "code",
   "execution_count": 6,
   "metadata": {},
   "outputs": [
    {
     "name": "stdout",
     "output_type": "stream",
     "text": [
      "Iteration: 0 of 10\n",
      "Iteration: 1 of 10\n",
      "Iteration: 2 of 10\n",
      "Iteration: 3 of 10\n",
      "Iteration: 4 of 10\n",
      "Iteration: 5 of 10\n",
      "Iteration: 6 of 10\n",
      "Iteration: 7 of 10\n",
      "Iteration: 8 of 10\n",
      "Iteration: 9 of 10\n",
      "Iteration: 10 of 10\n",
      "\n",
      "Saving data ...\n",
      "\n",
      "Data saved ...\n"
     ]
    }
   ],
   "source": [
    "# Class Get_data\n",
    "g = Get_data(device_name, channel_used, sample_period_in_seconds, session_duration_in_seconds, save_data, path_to_save, will_plot)\n",
    "\n",
    "# Method get_data_nidaqmx\n",
    "g.get_data_nidaqmx()"
   ]
  },
  {
   "cell_type": "markdown",
   "source": [
    "### Showing acquired data"
   ],
   "metadata": {
    "collapsed": false
   }
  },
  {
   "cell_type": "code",
   "execution_count": 10,
   "outputs": [
    {
     "name": "stdout",
     "output_type": "stream",
     "text": [
      "First 10 values of time: \n",
      " [0, 1, 2, 3, 4, 5, 6, 7, 8, 9]\n",
      "\n",
      "First 10 values of data: \n",
      " [-0.07327796775769418, 0.039081582804103565, 0.014655593551538837, 0.13678553981436248, 0.13190034196384953, 0.14655593551538837, 0.15632633121641426, 0.268685881778212, 0.2882266731802638, 0.3077674645823156]\n"
     ]
    }
   ],
   "source": [
    "print(f'First 10 values of time: \\n {g.time_var[0:10]}')\n",
    "print(f'\\nFirst 10 values of data: \\n {g.data[0:10]}')"
   ],
   "metadata": {
    "collapsed": false
   }
  }
 ],
 "metadata": {
  "kernelspec": {
   "display_name": "Python 3 (ipykernel)",
   "language": "python",
   "name": "python3"
  },
  "language_info": {
   "codemirror_mode": {
    "name": "ipython",
    "version": 3
   },
   "file_extension": ".py",
   "mimetype": "text/x-python",
   "name": "python",
   "nbconvert_exporter": "python",
   "pygments_lexer": "ipython3",
   "version": "3.9.13"
  }
 },
 "nbformat": 4,
 "nbformat_minor": 1
}
