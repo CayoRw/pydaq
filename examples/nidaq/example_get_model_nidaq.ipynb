{
 "cells": [
  {
   "cell_type": "markdown",
   "metadata": {},
   "source": [
    "---\n",
    "# Example #1\n",
    "---\n",
    "### How to use GetModel (and get_model_nidaq) to send a signal using a National Instruments board\n",
    "---"
   ]
  },
  {
   "cell_type": "markdown",
   "metadata": {},
   "source": [
    "### Importing library and defining parameters"
   ]
  },
  {
   "cell_type": "code",
   "execution_count": null,
   "metadata": {
    "vscode": {
     "languageId": "plaintext"
    }
   },
   "outputs": [],
   "source": [
    "# Importing PYDAQ\n",
    "from pydaq.get_model import GetModel\n",
    "\n",
    "device_name = (\"Dev1\",)\n",
    "ao_channel = (\"ao0\",)\n",
    "ai_channel = (\"ai0\",)\n",
    "channel = (\"ai0\",)\n",
    "terminal = (\"Diff\",)\n",
    "ao_min = (0,)\n",
    "ao_max = (5,)\n",
    "\n",
    "# system identification parameters\n",
    "degree = 2\n",
    "start_save_time_in_s = 0\n",
    "out_lag = 2\n",
    "inp_lag = 2\n",
    "num_info_val = 6\n",
    "estimator = \"least_squares\"\n",
    "ext_lsq = True\n",
    "perc_value_to_train_the_model = 15\n",
    "\n",
    "# PRBS input parameters\n",
    "prbs_bits = 6\n",
    "prbs_seed = 100\n",
    "var_tb = 1\n"
   ]
  },
  {
   "cell_type": "markdown",
   "metadata": {},
   "source": [
    "### Performing the test"
   ]
  },
  {
   "cell_type": "code",
   "execution_count": null,
   "metadata": {
    "vscode": {
     "languageId": "plaintext"
    }
   },
   "outputs": [],
   "source": [
    "# Class GetModel\n",
    "g = GetModel(\n",
    "    device=device_name,\n",
    "    ai_channel=ai_channel,\n",
    "    ao_channel=ao_channel,\n",
    "    ao_min=ao_min,\n",
    "    ao_max=ao_max,\n",
    "    channel=channel,\n",
    "    degree=degree,\n",
    "    start_save_time=start_save_time_in_s,\n",
    "    out_lag=out_lag,\n",
    "    inp_lag=inp_lag,\n",
    "    num_info_values=num_info_val,\n",
    "    estimator=estimator,\n",
    "    ext_lsq=ext_lsq,\n",
    "    perc_value=perc_value_to_train_the_model,\n",
    "    prbs_bits=prbs_bits,\n",
    "    prbs_seed=prbs_seed,\n",
    "    var_tb=var_tb,\n",
    ")\n",
    "\n",
    "# Method get_model_nidaq\n",
    "g.get_model_nidaq()"
   ]
  }
 ],
 "metadata": {
  "language_info": {
   "name": "python"
  }
 },
 "nbformat": 4,
 "nbformat_minor": 2
}
