{
 "cells": [
  {
   "cell_type": "markdown",
   "metadata": {},
   "source": [
    "---\n",
    "# Example #2\n",
    "---\n",
    "### How to use Get_data (and get_data_nidaq_gui) Graphical User Interface to acquire signal using a National Instruments board\n",
    "---"
   ]
  },
  {
   "cell_type": "markdown",
   "metadata": {},
   "source": [
    "### Importing library and starting up the GUI (Graphical User Interface)"
   ]
  },
  {
   "cell_type": "code",
   "metadata": {
    "ExecuteTime": {
     "end_time": "2024-07-14T23:40:14.475610Z",
     "start_time": "2024-07-14T23:39:50.564616Z"
    }
   },
   "source": [
    "from pydaq.pydaq_global import PydaqGui\n",
    "\n",
    "# Launch the interface\n",
    "gui = PydaqGui()"
   ],
   "outputs": [
    {
     "name": "stdout",
     "output_type": "stream",
     "text": [
      "Iteration: 0 of 20\n",
      "Iteration: 1 of 20\n",
      "Iteration: 2 of 20\n",
      "Iteration: 3 of 20\n",
      "Iteration: 4 of 20\n"
     ]
    },
    {
     "name": "stderr",
     "output_type": "stream",
     "text": [
      "D:\\Outros Codigos\\Pydaq_Pyside6\\pydaq\\venv\\lib\\site-packages\\nidaqmx\\task.py:98: ResourceWarning: Task of name \"_unnamedTask<0>\" was not explicitly closed before it was destructed. Resources on the task device may still be reserved.\n",
      "  warnings.warn(\n",
      "D:\\Outros Codigos\\Pydaq_Pyside6\\pydaq\\venv\\lib\\site-packages\\nidaqmx\\task.py:98: ResourceWarning: Task of name \"_unnamedTask<1>\" was not explicitly closed before it was destructed. Resources on the task device may still be reserved.\n",
      "  warnings.warn(\n"
     ]
    },
    {
     "name": "stdout",
     "output_type": "stream",
     "text": [
      "Iteration: 5 of 20\n",
      "Iteration: 6 of 20\n",
      "Iteration: 7 of 20\n",
      "Iteration: 8 of 20\n",
      "Iteration: 9 of 20\n",
      "Iteration: 10 of 20\n",
      "Iteration: 11 of 20\n",
      "Iteration: 12 of 20\n",
      "Iteration: 13 of 20\n",
      "Iteration: 14 of 20\n",
      "Iteration: 15 of 20\n",
      "Iteration: 16 of 20\n",
      "Iteration: 17 of 20\n",
      "Iteration: 18 of 20\n",
      "Iteration: 19 of 20\n",
      "Iteration: 20 of 20\n",
      "\n",
      "Saving data ...\n",
      "\n",
      "Data saved ...\n"
     ]
    }
   ],
   "execution_count": 2
  },
  {
   "cell_type": "markdown",
   "source": [
    "### Showing acquired data"
   ],
   "metadata": {
    "collapsed": false
   }
  },
  {
   "cell_type": "code",
   "source": [
    "print(f'First 10 values of time: \\n {gui.time_var[0:10]}')\n",
    "print(f'\\nFirst 10 values of data: \\n {gui.data[0:10]}')"
   ],
   "metadata": {
    "collapsed": false,
    "ExecuteTime": {
     "end_time": "2024-07-14T23:40:23.178698Z",
     "start_time": "2024-07-14T23:40:23.165701Z"
    }
   },
   "outputs": [
    {
     "name": "stdout",
     "output_type": "stream",
     "text": [
      "First 10 values of time: \n",
      " [0.0, 0.5, 1.0, 1.5, 2.0, 2.5, 3.0, 3.5, 4.0, 4.5]\n",
      "\n",
      "First 10 values of data: \n",
      " [-0.07507438773174639, 0.039673456931410694, 0.014648661020828565, 0.1373311970702678, 0.1342793926909285, 0.14892805371175707, 0.1599145494773785, 0.27222095063706414, 0.2917524986648356, 0.31067368581673915]\n"
     ]
    }
   ],
   "execution_count": 3
  },
  {
   "metadata": {},
   "cell_type": "markdown",
   "source": "### Cleaning up"
  },
  {
   "metadata": {
    "ExecuteTime": {
     "end_time": "2024-07-14T23:40:26.537727Z",
     "start_time": "2024-07-14T23:40:26.519728Z"
    }
   },
   "cell_type": "code",
   "source": "quit()",
   "outputs": [],
   "execution_count": 4
  }
 ],
 "metadata": {
  "kernelspec": {
   "display_name": "Python 3 (ipykernel)",
   "language": "python",
   "name": "python3"
  },
  "language_info": {
   "codemirror_mode": {
    "name": "ipython",
    "version": 3
   },
   "file_extension": ".py",
   "mimetype": "text/x-python",
   "name": "python",
   "nbconvert_exporter": "python",
   "pygments_lexer": "ipython3",
   "version": "3.9.13"
  }
 },
 "nbformat": 4,
 "nbformat_minor": 1
}
