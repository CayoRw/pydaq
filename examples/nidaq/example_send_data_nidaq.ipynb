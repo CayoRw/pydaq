{
 "cells": [
  {
   "cell_type": "markdown",
   "metadata": {},
   "source": [
    "---\n",
    "# Example #1\n",
    "---\n",
    "### How to use Send_data (and send_data_nidaq) to send a signal using an National Instruments board\n",
    "---"
   ]
  },
  {
   "cell_type": "markdown",
   "metadata": {},
   "source": [
    "### Importing library and defining parameters"
   ]
  },
  {
   "cell_type": "code",
   "execution_count": 1,
   "metadata": {},
   "outputs": [],
   "source": [
    "# Importing PYDAQ\n",
    "from pydaq.send_data import Send_data\n",
    "\n",
    "# Defining parameters\n",
    "device_name = \"Dev1\"\n",
    "channel_used = \"ao0\"\n",
    "sample_period_in_seconds = 1\n",
    "data = [1,2,3,4,1,2,3,4,1,2,3,4] # It can be either a list or a numpy array\n",
    "ao_min = 0 # Minimum allowed analog output value\n",
    "ao_max = 5 # Maximum allowed analog output value\n",
    "will_plot = True"
   ]
  },
  {
   "cell_type": "markdown",
   "metadata": {},
   "source": [
    "### Sending data from np.array to the board"
   ]
  },
  {
   "cell_type": "code",
   "execution_count": 2,
   "metadata": {},
   "outputs": [
    {
     "name": "stdout",
     "output_type": "stream",
     "text": [
      "Iteration: 0 of 11\n",
      "Iteration: 1 of 11\n",
      "Iteration: 2 of 11\n",
      "Iteration: 3 of 11\n",
      "Iteration: 4 of 11\n",
      "Iteration: 5 of 11\n",
      "Iteration: 6 of 11\n",
      "Iteration: 7 of 11\n",
      "Iteration: 8 of 11\n",
      "Iteration: 9 of 11\n",
      "Iteration: 10 of 11\n",
      "Iteration: 11 of 11\n"
     ]
    }
   ],
   "source": [
    "# Class Get_data\n",
    "s = Send_data(data, device_name, channel_used, sample_period_in_seconds, ao_min, ao_max, will_plot)\n",
    "\n",
    "# Method get_data_nidaq\n",
    "s.send_data_nidaq()"
   ]
  }
 ],
 "metadata": {
  "kernelspec": {
   "display_name": "Python 3 (ipykernel)",
   "language": "python",
   "name": "python3"
  },
  "language_info": {
   "codemirror_mode": {
    "name": "ipython",
    "version": 3
   },
   "file_extension": ".py",
   "mimetype": "text/x-python",
   "name": "python",
   "nbconvert_exporter": "python",
   "pygments_lexer": "ipython3",
   "version": "3.9.13"
  }
 },
 "nbformat": 4,
 "nbformat_minor": 1
}
