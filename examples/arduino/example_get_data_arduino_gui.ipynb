{
 "cells": [
  {
   "cell_type": "markdown",
   "metadata": {},
   "source": [
    "---\n",
    "# NOTE: file [arduino_code.ino](https://github.com/samirmartins/pydaq/blob/359823ffb244d6a3ee8124c57c3c2002281df8d8/pydaq/arduino_code/arduino_code.ino) should be loaded in Arduino before running this example\n",
    "---\n",
    "# Example #2\n",
    "---\n",
    "### How to use Get_data (and get_data_arduino_gui) Graphical User Interface to acquire signal using an Arduino board\n",
    "---"
   ]
  },
  {
   "cell_type": "markdown",
   "metadata": {},
   "source": [
    "### Importing library and starting up the GUI (Graphical User Interface)"
   ]
  },
  {
   "cell_type": "code",
   "metadata": {
    "ExecuteTime": {
     "end_time": "2024-07-08T23:42:10.024595Z",
     "start_time": "2024-07-08T23:41:44.323019Z"
    }
   },
   "source": [
    "from pydaq.pydaq_global import PydaqGui\n",
    "\n",
    "# Launch the interface\n",
    "gui = PydaqGui()"
   ],
   "outputs": [
    {
     "name": "stdout",
     "output_type": "stream",
     "text": [
      "\n"
     ]
    }
   ],
   "execution_count": 1
  },
  {
   "cell_type": "markdown",
   "source": [
    "### Showing acquired data"
   ],
   "metadata": {
    "collapsed": false
   }
  },
  {
   "cell_type": "code",
   "execution_count": 3,
   "outputs": [
    {
     "name": "stdout",
     "output_type": "stream",
     "text": [
      "First 10 values of time: \n",
      " [0.0, 0.5, 1.0, 1.5, 2.0, 2.5, 3.0, 3.5, 4.0, 4.5]\n",
      "\n",
      "First 10 values of data: \n",
      " [1.8994140625, 1.6650390625, 1.54296875, 1.455078125, 1.40625, 1.3720703125, 1.3427734375, 1.3232421875, 1.30859375, 1.30859375]\n"
     ]
    }
   ],
   "source": [
    "print(f'First 10 values of time: \\n {gui.time_var[0:10]}')\n",
    "print(f'\\nFirst 10 values of data: \\n {gui.data[0:10]}')"
   ],
   "metadata": {
    "collapsed": false
   }
  },
  {
   "metadata": {},
   "cell_type": "code",
   "outputs": [],
   "execution_count": null,
   "source": ""
  }
 ],
 "metadata": {
  "kernelspec": {
   "display_name": "Python 3 (ipykernel)",
   "language": "python",
   "name": "python3"
  },
  "language_info": {
   "codemirror_mode": {
    "name": "ipython",
    "version": 3
   },
   "file_extension": ".py",
   "mimetype": "text/x-python",
   "name": "python",
   "nbconvert_exporter": "python",
   "pygments_lexer": "ipython3",
   "version": "3.9.13"
  }
 },
 "nbformat": 4,
 "nbformat_minor": 1
}
