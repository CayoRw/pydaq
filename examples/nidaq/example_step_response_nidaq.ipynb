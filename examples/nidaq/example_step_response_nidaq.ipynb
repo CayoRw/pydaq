{
 "cells": [
  {
   "cell_type": "markdown",
   "metadata": {},
   "source": [
    "---\n",
    "# Example #1\n",
    "---\n",
    "### How to use Send_data (and step_response_nidaq) to perform a step response test  using an National Instruments board\n",
    "---"
   ]
  },
  {
   "cell_type": "markdown",
   "metadata": {},
   "source": [
    "### Importing library and defining parameters"
   ]
  },
  {
   "cell_type": "code",
   "execution_count": 6,
   "metadata": {},
   "outputs": [],
   "source": [
    "# Importing PYDAQ\n",
    "from pydaq.step_response import Step_response\n",
    "\n",
    "# Defining parameters\n",
    "device_name = \"Dev1\"\n",
    "ao_channel_used = \"ao0\"\n",
    "ai_channel_used = \"ai0\"\n",
    "sample_period_in_seconds = 1\n",
    "session_duration_in_seconds = 10.0\n",
    "step_time_in_seconds = 3.0\n",
    "step_min_in_volts = 0\n",
    "step_max_in_volts = 5\n",
    "terminal_configuration = 'Diff'\n",
    "will_plot = True"
   ]
  },
  {
   "cell_type": "markdown",
   "metadata": {},
   "source": [
    "### Performing step response test"
   ]
  },
  {
   "cell_type": "code",
   "execution_count": 7,
   "metadata": {},
   "outputs": [
    {
     "name": "stdout",
     "output_type": "stream",
     "text": [
      "Iteration: 0 of 10\n",
      "Iteration: 1 of 10\n",
      "Iteration: 2 of 10\n",
      "Iteration: 3 of 10\n",
      "Iteration: 4 of 10\n",
      "Iteration: 5 of 10\n",
      "Iteration: 6 of 10\n",
      "Iteration: 7 of 10\n",
      "Iteration: 8 of 10\n",
      "Iteration: 9 of 10\n",
      "Iteration: 10 of 10\n"
     ]
    },
    {
     "ename": "AttributeError",
     "evalue": "'Step_response' object has no attribute 'save'",
     "output_type": "error",
     "traceback": [
      "\u001B[1;31m---------------------------------------------------------------------------\u001B[0m",
      "\u001B[1;31mAttributeError\u001B[0m                            Traceback (most recent call last)",
      "\u001B[1;32m~\\AppData\\Local\\Temp\\ipykernel_24568\\3914799207.py\u001B[0m in \u001B[0;36m<cell line: 5>\u001B[1;34m()\u001B[0m\n\u001B[0;32m      3\u001B[0m \u001B[1;33m\u001B[0m\u001B[0m\n\u001B[0;32m      4\u001B[0m \u001B[1;31m# Method step_response_nidaq\u001B[0m\u001B[1;33m\u001B[0m\u001B[1;33m\u001B[0m\u001B[0m\n\u001B[1;32m----> 5\u001B[1;33m \u001B[0ms\u001B[0m\u001B[1;33m.\u001B[0m\u001B[0mstep_response_nidaq\u001B[0m\u001B[1;33m(\u001B[0m\u001B[1;33m)\u001B[0m\u001B[1;33m\u001B[0m\u001B[1;33m\u001B[0m\u001B[0m\n\u001B[0m",
      "\u001B[1;32m~\\Desktop\\pydaq\\pydaq\\step_response.py\u001B[0m in \u001B[0;36mstep_response_nidaq\u001B[1;34m(self)\u001B[0m\n\u001B[0;32m    535\u001B[0m \u001B[1;33m\u001B[0m\u001B[0m\n\u001B[0;32m    536\u001B[0m         \u001B[1;31m# Check if data will or not be saved, and save accordingly\u001B[0m\u001B[1;33m\u001B[0m\u001B[1;33m\u001B[0m\u001B[0m\n\u001B[1;32m--> 537\u001B[1;33m         \u001B[1;32mif\u001B[0m \u001B[0mself\u001B[0m\u001B[1;33m.\u001B[0m\u001B[0msave\u001B[0m\u001B[1;33m:\u001B[0m\u001B[1;33m\u001B[0m\u001B[1;33m\u001B[0m\u001B[0m\n\u001B[0m\u001B[0;32m    538\u001B[0m             \u001B[0mprint\u001B[0m\u001B[1;33m(\u001B[0m\u001B[1;34m'\\nSaving data ...'\u001B[0m\u001B[1;33m)\u001B[0m\u001B[1;33m\u001B[0m\u001B[1;33m\u001B[0m\u001B[0m\n\u001B[0;32m    539\u001B[0m             \u001B[1;31m# Saving time_var and data\u001B[0m\u001B[1;33m\u001B[0m\u001B[1;33m\u001B[0m\u001B[0m\n",
      "\u001B[1;31mAttributeError\u001B[0m: 'Step_response' object has no attribute 'save'"
     ]
    }
   ],
   "source": [
    "# Class Get_data\n",
    "s = Step_response(device_name, ao_channel_used, ai_channel_used, sample_period_in_seconds, session_duration_in_seconds, step_time_in_seconds, step_min_in_volts, step_max_in_volts, terminal_configuration, will_plot)\n",
    "\n",
    "# Method step_response_nidaq\n",
    "s.step_response_nidaq()"
   ]
  }
 ],
 "metadata": {
  "kernelspec": {
   "display_name": "Python 3 (ipykernel)",
   "language": "python",
   "name": "python3"
  },
  "language_info": {
   "codemirror_mode": {
    "name": "ipython",
    "version": 3
   },
   "file_extension": ".py",
   "mimetype": "text/x-python",
   "name": "python",
   "nbconvert_exporter": "python",
   "pygments_lexer": "ipython3",
   "version": "3.9.13"
  }
 },
 "nbformat": 4,
 "nbformat_minor": 1
}
