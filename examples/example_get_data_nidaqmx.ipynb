{
 "cells": [
  {
   "cell_type": "markdown",
   "metadata": {},
   "source": [
    "---\n",
    "# Quick example\n",
    "---\n",
    "### How to use get_data_nidaqmx to acquire signal using an National Instruments board\n",
    "---"
   ]
  },
  {
   "cell_type": "markdown",
   "metadata": {},
   "source": [
    "### Importing library and defining parameters"
   ]
  },
  {
   "cell_type": "code",
   "execution_count": 1,
   "metadata": {},
   "outputs": [],
   "source": [
    "# Importing PYDAQ\n",
    "from pydaq.get_data_nidaqmx import get_data_nidaqmx\n",
    "\n",
    "# Defining parameters\n",
    "device_name = \"Dev1\"\n",
    "channel_used = \"ai0\"\n",
    "sample_period_in_seconds = 0.5\n",
    "session_duration_in_seconds = 10.0\n",
    "save_data = True\n",
    "path_to_save  = None # It will be saved on Desktop. You can specify a different path if needed"
   ]
  },
  {
   "cell_type": "markdown",
   "metadata": {},
   "source": [
    "### Getting data from the board - and saving them in Desktop"
   ]
  },
  {
   "cell_type": "code",
   "execution_count": 2,
   "metadata": {},
   "outputs": [],
   "source": [
    "get_data_nidaqmx(device=\"AnalogInput\", channel=\"ai0\", ts=0.5, session_duration=10.0, save=True, path=None)"
   ]
  }
 ],
 "metadata": {
  "kernelspec": {
   "display_name": "Python 3 (ipykernel)",
   "language": "python",
   "name": "python3"
  },
  "language_info": {
   "codemirror_mode": {
    "name": "ipython",
    "version": 3
   },
   "file_extension": ".py",
   "mimetype": "text/x-python",
   "name": "python",
   "nbconvert_exporter": "python",
   "pygments_lexer": "ipython3",
   "version": "3.9.13"
  }
 },
 "nbformat": 4,
 "nbformat_minor": 1
}
