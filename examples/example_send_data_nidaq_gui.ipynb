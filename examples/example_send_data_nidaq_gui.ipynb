{
 "cells": [
  {
   "cell_type": "markdown",
   "metadata": {},
   "source": [
    "---\n",
    "# Example #2\n",
    "---\n",
    "### How to use Send_data (and send_data_nidaqmx_gui) Graphical User Interface to send a signal from a file using an National Instruments board\n",
    "---"
   ]
  },
  {
   "cell_type": "markdown",
   "metadata": {},
   "source": [
    "### Importing library and starting up the GUI (Graphical User Interface)"
   ]
  },
  {
   "cell_type": "code",
   "execution_count": 1,
   "metadata": {},
   "outputs": [
    {
     "name": "stderr",
     "output_type": "stream",
     "text": [
      "C:\\Users\\Samir\\Desktop\\pydaq\\pydaq\\send_data.py:220: ResourceWarning: unclosed file <_io.TextIOWrapper name='C:\\\\Users\\\\Samir\\\\Desktop\\\\data.dat' mode='r' encoding='cp1252'>\n",
      "  self.data = np.array(open(self.path, 'r').read().split('\\n'), dtype='float')\n",
      "ResourceWarning: Enable tracemalloc to get the object allocation traceback\n"
     ]
    },
    {
     "name": "stdout",
     "output_type": "stream",
     "text": [
      "Iteration: 0 of 34\n",
      "Iteration: 1 of 34\n",
      "Iteration: 2 of 34\n",
      "Iteration: 3 of 34\n",
      "Iteration: 4 of 34\n",
      "Iteration: 5 of 34\n",
      "Iteration: 6 of 34\n",
      "Iteration: 7 of 34\n",
      "Iteration: 8 of 34\n",
      "Iteration: 9 of 34\n",
      "Iteration: 10 of 34\n",
      "Iteration: 11 of 34\n",
      "Iteration: 12 of 34\n",
      "Iteration: 13 of 34\n",
      "Iteration: 14 of 34\n",
      "Iteration: 15 of 34\n",
      "Iteration: 16 of 34\n",
      "Iteration: 17 of 34\n",
      "Iteration: 18 of 34\n",
      "Iteration: 19 of 34\n",
      "Iteration: 20 of 34\n",
      "Iteration: 21 of 34\n",
      "Iteration: 22 of 34\n",
      "Iteration: 23 of 34\n",
      "Iteration: 24 of 34\n",
      "Iteration: 25 of 34\n",
      "Iteration: 26 of 34\n",
      "Iteration: 27 of 34\n",
      "Iteration: 28 of 34\n",
      "Iteration: 29 of 34\n",
      "Iteration: 30 of 34\n",
      "Iteration: 31 of 34\n",
      "Iteration: 32 of 34\n",
      "Iteration: 33 of 34\n",
      "Iteration: 34 of 34\n"
     ]
    }
   ],
   "source": [
    "from pydaq.send_data import Send_data\n",
    "\n",
    "# Class Get_data\n",
    "s = Send_data()\n",
    "\n",
    "# Method get_data_nidaq\n",
    "s.send_data_nidaq_gui()"
   ]
  }
 ],
 "metadata": {
  "kernelspec": {
   "display_name": "Python 3 (ipykernel)",
   "language": "python",
   "name": "python3"
  },
  "language_info": {
   "codemirror_mode": {
    "name": "ipython",
    "version": 3
   },
   "file_extension": ".py",
   "mimetype": "text/x-python",
   "name": "python",
   "nbconvert_exporter": "python",
   "pygments_lexer": "ipython3",
   "version": "3.9.13"
  }
 },
 "nbformat": 4,
 "nbformat_minor": 1
}
