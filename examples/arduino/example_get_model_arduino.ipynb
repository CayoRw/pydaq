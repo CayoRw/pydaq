{
 "cells": [
  {
   "cell_type": "markdown",
   "metadata": {},
   "source": [
    "---\n",
    "# NOTE: file [arduino_code.ino](https://github.com/samirmartins/pydaq/blob/359823ffb244d6a3ee8124c57c3c2002281df8d8/pydaq/arduino_code/arduino_code.ino) should be loaded in Arduino before running this example\n",
    "---\n",
    "# Example #1\n",
    "---\n",
    "### How to use GetModel (and get_model_arduino) to acquire model using an Arduino\n",
    "---"
   ]
  },
  {
   "cell_type": "markdown",
   "metadata": {},
   "source": [
    "### Importing library and defining parameters"
   ]
  },
  {
   "cell_type": "code",
   "execution_count": null,
   "metadata": {},
   "outputs": [],
   "source": [
    "# Importing PYDAQ\n",
    "from pydaq.get_model import GetModel\n",
    "\n",
    "# Defining parameters\n",
    "com_port_arduino = \"COM3\"\n",
    "session_duration_in_s = 100\n",
    "sample_period_in_s = 0.5\n",
    "save_data = True\n",
    "plot_data = True\n",
    "\n",
    "# system identification parameters\n",
    "degree = 2\n",
    "start_save_time_in_s = 0\n",
    "out_lag = 2\n",
    "inp_lag = 2\n",
    "num_info_val = 6\n",
    "estimator = \"least_squares\"\n",
    "ext_lsq = True\n",
    "perc_value_to_train_the_model = 15\n",
    "\n",
    "# PRBS input parameters\n",
    "prbs_bits = 6\n",
    "prbs_seed = 100\n",
    "var_tb = 1"
   ]
  },
  {
   "cell_type": "markdown",
   "metadata": {},
   "source": [
    "### Performing the test"
   ]
  },
  {
   "cell_type": "code",
   "execution_count": null,
   "metadata": {},
   "outputs": [],
   "source": [
    "# Class GetModel\n",
    "g = GetModel(\n",
    "    com=com_port_arduino,\n",
    "    session_duration=session_duration_in_s,\n",
    "    ts=sample_period_in_s,\n",
    "    save=save_data,\n",
    "    plot=plot_data,\n",
    "    degree=2,\n",
    "    start_save_time=start_save_time_in_s,\n",
    "    out_lag=out_lag,\n",
    "    inp_lag=inp_lag,\n",
    "    num_info_values=num_info_val,\n",
    "    estimator=estimator,\n",
    "    ext_lsq=ext_lsq,\n",
    "    perc_value=perc_value_to_train_the_model,\n",
    "    prbs_bits=prbs_bits,\n",
    "    prbs_seed=prbs_seed,\n",
    "    var_tb=var_tb,\n",
    ")\n",
    "\n",
    "# Method get_model_arduino\n",
    "g.get_model_arduino()"
   ]
  }
 ],
 "metadata": {
  "kernelspec": {
   "display_name": ".venv",
   "language": "python",
   "name": "python3"
  },
  "language_info": {
   "name": "python",
   "version": "3.11.3"
  }
 },
 "nbformat": 4,
 "nbformat_minor": 2
}
