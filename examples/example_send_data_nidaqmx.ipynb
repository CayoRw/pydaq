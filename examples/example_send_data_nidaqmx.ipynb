{
 "cells": [
  {
   "cell_type": "markdown",
   "metadata": {},
   "source": [
    "---\n",
    "# Example #1\n",
    "---\n",
    "### How to use Send_data (and send_data_nidaqmx) to send a signal using an National Instruments board\n",
    "---"
   ]
  },
  {
   "cell_type": "markdown",
   "metadata": {},
   "source": [
    "### Importing library and defining parameters"
   ]
  },
  {
   "cell_type": "code",
   "execution_count": 4,
   "metadata": {},
   "outputs": [],
   "source": [
    "# Importing PYDAQ\n",
    "from pydaq.send_data import Send_data\n",
    "\n",
    "# Defining parameters\n",
    "device_name = \"Dev1\"\n",
    "channel_used = \"ao0\"\n",
    "sample_period_in_seconds = 1\n",
    "data = [0,1,2,3,4,5,0,1,2,3,4,5,0,1,2,3,4,5] # It can be either a list or a numpy array\n",
    "will_plot = True"
   ]
  },
  {
   "cell_type": "markdown",
   "metadata": {},
   "source": [
    "### Sending data from np.array to the board"
   ]
  },
  {
   "cell_type": "code",
   "execution_count": 5,
   "metadata": {},
   "outputs": [
    {
     "name": "stdout",
     "output_type": "stream",
     "text": [
      "Iteration: 0 of 17\n",
      "Iteration: 1 of 17\n",
      "Iteration: 2 of 17\n",
      "Iteration: 3 of 17\n",
      "Iteration: 4 of 17\n",
      "Iteration: 5 of 17\n",
      "Iteration: 6 of 17\n",
      "Iteration: 7 of 17\n",
      "Iteration: 8 of 17\n",
      "Iteration: 9 of 17\n",
      "Iteration: 10 of 17\n",
      "Iteration: 11 of 17\n",
      "Iteration: 12 of 17\n",
      "Iteration: 13 of 17\n",
      "Iteration: 14 of 17\n",
      "Iteration: 15 of 17\n",
      "Iteration: 16 of 17\n",
      "Iteration: 17 of 17\n"
     ]
    }
   ],
   "source": [
    "# Class Get_data\n",
    "s = Send_data(data, device_name, channel_used, sample_period_in_seconds, will_plot)\n",
    "\n",
    "# Method get_data_nidaqmx\n",
    "s.send_data_nidaqmx()"
   ]
  }
 ],
 "metadata": {
  "kernelspec": {
   "display_name": "Python 3 (ipykernel)",
   "language": "python",
   "name": "python3"
  },
  "language_info": {
   "codemirror_mode": {
    "name": "ipython",
    "version": 3
   },
   "file_extension": ".py",
   "mimetype": "text/x-python",
   "name": "python",
   "nbconvert_exporter": "python",
   "pygments_lexer": "ipython3",
   "version": "3.9.13"
  }
 },
 "nbformat": 4,
 "nbformat_minor": 1
}
