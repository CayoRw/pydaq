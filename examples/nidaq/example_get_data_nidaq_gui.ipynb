{
 "cells": [
  {
   "cell_type": "markdown",
   "metadata": {},
   "source": [
    "---\n",
    "# Example #2\n",
    "---\n",
    "### How to use Get_data (and get_data_nidaq_gui) Graphical User Interface to acquire signal using a National Instruments board\n",
    "---"
   ]
  },
  {
   "cell_type": "markdown",
   "metadata": {},
   "source": [
    "### Importing library and starting up the GUI (Graphical User Interface)"
   ]
  },
  {
   "cell_type": "code",
   "metadata": {
    "ExecuteTime": {
     "end_time": "2024-07-14T22:29:45.851833Z",
     "start_time": "2024-07-14T22:29:41.150660Z"
    }
   },
   "source": [
    "from pydaq.pydaq_global import PydaqGui\n",
    "\n",
    "# Launch the interface\n",
    "gui = PydaqGui()"
   ],
   "outputs": [],
   "execution_count": 1
  },
  {
   "cell_type": "markdown",
   "source": [
    "### Showing acquired data"
   ],
   "metadata": {
    "collapsed": false
   }
  },
  {
   "cell_type": "code",
   "source": [
    "print(f'First 10 values of time: \\n {gui.time_var[0:10]}')\n",
    "print(f'\\nFirst 10 values of data: \\n {gui.data[0:10]}')"
   ],
   "metadata": {
    "collapsed": false,
    "ExecuteTime": {
     "end_time": "2024-07-14T22:29:14.506913Z",
     "start_time": "2024-07-14T22:29:14.499978Z"
    }
   },
   "outputs": [
    {
     "name": "stdout",
     "output_type": "stream",
     "text": [
      "First 10 values of time: \n",
      " [0.0, 0.5, 1.0, 1.5, 2.0, 2.5, 3.0, 3.5, 4.0, 4.5]\n",
      "\n",
      "First 10 values of data: \n",
      " [-0.07507438773174639, 0.039673456931410694, 0.014648661020828565, 0.1373311970702678, 0.1342793926909285, 0.14892805371175707, 0.1599145494773785, 0.27222095063706414, 0.2917524986648356, 0.31067368581673915]\n"
     ]
    }
   ],
   "execution_count": 2
  }
 ],
 "metadata": {
  "kernelspec": {
   "display_name": "Python 3 (ipykernel)",
   "language": "python",
   "name": "python3"
  },
  "language_info": {
   "codemirror_mode": {
    "name": "ipython",
    "version": 3
   },
   "file_extension": ".py",
   "mimetype": "text/x-python",
   "name": "python",
   "nbconvert_exporter": "python",
   "pygments_lexer": "ipython3",
   "version": "3.9.13"
  }
 },
 "nbformat": 4,
 "nbformat_minor": 1
}
