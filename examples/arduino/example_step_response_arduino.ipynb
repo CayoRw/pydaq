{
 "cells": [
  {
   "cell_type": "markdown",
   "metadata": {},
   "source": [
    "---\n",
    "# NOTE 1: file [arduino_code.ino](https://github.com/samirmartins/pydaq/blob/359823ffb244d6a3ee8124c57c3c2002281df8d8/pydaq/arduino_code/arduino_code.ino) should be loaded in Arduino before running this example\n",
    "\n",
    "# Note 2: only digital outputs allowed in Arduino\n",
    "---\n",
    "# Example #1\n",
    "---\n",
    "### How to use Step_response (and step_response_arduino) to perform a step response test  using an Arduino board\n",
    "---"
   ]
  },
  {
   "cell_type": "markdown",
   "metadata": {},
   "source": [
    "### Importing library and defining parameters"
   ]
  },
  {
   "cell_type": "code",
   "execution_count": 1,
   "metadata": {},
   "outputs": [],
   "source": [
    "# Importing PYDAQ\n",
    "from pydaq.step_response import Step_response\n",
    "\n",
    "# Defining parameters\n",
    "sample_period_in_seconds = 1\n",
    "session_duration_in_seconds = 10.0\n",
    "step_time_in_seconds = 3.0\n",
    "com_port_arduino = 'COM3'\n",
    "will_plot = True"
   ]
  },
  {
   "cell_type": "markdown",
   "metadata": {},
   "source": [
    "### Performing step response test"
   ]
  },
  {
   "cell_type": "code",
   "execution_count": 3,
   "metadata": {},
   "outputs": [
    {
     "name": "stdout",
     "output_type": "stream",
     "text": [
      "Iteration: 0 of 10\n",
      "Iteration: 1 of 10\n",
      "Iteration: 2 of 10\n",
      "Iteration: 3 of 10\n",
      "Iteration: 4 of 10\n",
      "Iteration: 5 of 10\n",
      "Iteration: 6 of 10\n",
      "Iteration: 7 of 10\n",
      "Iteration: 8 of 10\n",
      "Iteration: 9 of 10\n",
      "Iteration: 10 of 10\n"
     ]
    },
    {
     "ename": "AttributeError",
     "evalue": "'Step_response' object has no attribute 'save'",
     "output_type": "error",
     "traceback": [
      "\u001B[1;31m---------------------------------------------------------------------------\u001B[0m",
      "\u001B[1;31mAttributeError\u001B[0m                            Traceback (most recent call last)",
      "\u001B[1;32m~\\AppData\\Local\\Temp\\ipykernel_25268\\793736915.py\u001B[0m in \u001B[0;36m<cell line: 5>\u001B[1;34m()\u001B[0m\n\u001B[0;32m      3\u001B[0m \u001B[1;33m\u001B[0m\u001B[0m\n\u001B[0;32m      4\u001B[0m \u001B[1;31m# Method step_response_arduino\u001B[0m\u001B[1;33m\u001B[0m\u001B[1;33m\u001B[0m\u001B[0m\n\u001B[1;32m----> 5\u001B[1;33m \u001B[0ms\u001B[0m\u001B[1;33m.\u001B[0m\u001B[0mstep_response_arduino\u001B[0m\u001B[1;33m(\u001B[0m\u001B[1;33m)\u001B[0m\u001B[1;33m\u001B[0m\u001B[1;33m\u001B[0m\u001B[0m\n\u001B[0m",
      "\u001B[1;32m~\\Desktop\\pydaq\\pydaq\\step_response.py\u001B[0m in \u001B[0;36mstep_response_arduino\u001B[1;34m(self)\u001B[0m\n\u001B[0;32m    285\u001B[0m \u001B[1;33m\u001B[0m\u001B[0m\n\u001B[0;32m    286\u001B[0m         \u001B[1;31m# Check if data will or not be saved, and save accordingly\u001B[0m\u001B[1;33m\u001B[0m\u001B[1;33m\u001B[0m\u001B[0m\n\u001B[1;32m--> 287\u001B[1;33m         \u001B[1;32mif\u001B[0m \u001B[0mself\u001B[0m\u001B[1;33m.\u001B[0m\u001B[0msave\u001B[0m\u001B[1;33m:\u001B[0m\u001B[1;33m\u001B[0m\u001B[1;33m\u001B[0m\u001B[0m\n\u001B[0m\u001B[0;32m    288\u001B[0m             \u001B[0mprint\u001B[0m\u001B[1;33m(\u001B[0m\u001B[1;34m'\\nSaving data ...'\u001B[0m\u001B[1;33m)\u001B[0m\u001B[1;33m\u001B[0m\u001B[1;33m\u001B[0m\u001B[0m\n\u001B[0;32m    289\u001B[0m             \u001B[1;31m# Saving time_var and data\u001B[0m\u001B[1;33m\u001B[0m\u001B[1;33m\u001B[0m\u001B[0m\n",
      "\u001B[1;31mAttributeError\u001B[0m: 'Step_response' object has no attribute 'save'"
     ]
    }
   ],
   "source": [
    "# Class Get_data\n",
    "s = Step_response(com = com_port_arduino, ts=sample_period_in_seconds, session_duration=session_duration_in_seconds, step_time=step_time_in_seconds, plot=will_plot)\n",
    "\n",
    "# Method step_response_arduino\n",
    "s.step_response_arduino()"
   ]
  }
 ],
 "metadata": {
  "kernelspec": {
   "display_name": "Python 3 (ipykernel)",
   "language": "python",
   "name": "python3"
  },
  "language_info": {
   "codemirror_mode": {
    "name": "ipython",
    "version": 3
   },
   "file_extension": ".py",
   "mimetype": "text/x-python",
   "name": "python",
   "nbconvert_exporter": "python",
   "pygments_lexer": "ipython3",
   "version": "3.9.13"
  }
 },
 "nbformat": 4,
 "nbformat_minor": 1
}
